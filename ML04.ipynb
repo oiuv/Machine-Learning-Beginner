{
 "cells": [
  {
   "cell_type": "markdown",
   "id": "2c5ce719-050c-40a3-9c47-0ef5277362fe",
   "metadata": {},
   "source": [
    "\n",
    "> 本节课学习神经网络，并手撸一个最简单的全连接神经网络，理解神经网络输入层、隐藏层、输出层相关概念。\n",
    "\n",
    "前面三节课我们自己撸了最基础的机器学习模型$y=wx+b$，学习了均方误差$e=(y-\\hat{y})^2$和梯度下降算法$w=w-\\alpha k$，学习了使用sigmoid激活函数把线性模型做非线性变换解决二分类问题，掌握了模型、特征、标签、参数、超参数等概念，本节课我们进入新的阶段，开始搭建最基本的神经网络。\n",
    "\n",
    "前三节课我们补充了一元一次函数、一元二次函数、导数、sigmoid函数等数学基础，本节课很高兴没有新的数学知识要补充，让我们直接开始机器学习。\n",
    "\n",
    "## 机器学习\n",
    "\n",
    "在继续课程之前，我们继续补充一些机器学习的概念。\n",
    "\n",
    "### 神经元\n",
    "\n",
    "其实在我们上一节课实现的模型$$a=sigmoid(wx+b)$$在机器学习中就是一个**神经元**。\n",
    "\n",
    "在机器学习中，神经元是构成神经网络的基本单元。神经元接收多个输入信号，对它们进行加权和运算，再加上一个偏置项，最后通过一个激活函数得到输出信号。\n",
    "\n",
    "神经元的输入可以来自于其他神经元的输出，也可以来自于外部输入。在神经网络中，每个神经元都有一组权重，用来控制输入信号的重要性。这些权重可以通过训练神经网络来得到，使得神经网络能够自动学习输入和输出之间的关系。\n",
    "\n",
    "神经元的激活函数通常是非线性的，例如sigmoid函数、ReLU函数等。这些非线性函数使得神经网络能够学习更加复杂的输入和输出之间的关系，从而提高其预测能力和泛化能力。\n",
    "\n",
    "在深度学习中，神经元的结构和功能不断被改进和优化，例如使用卷积神经网络、循环神经网络等结构，以应对不同的任务和数据类型。\n",
    "\n",
    "只有一个神经元的模型也是最简单的神经网络模型--**单层感知机**。\n",
    "\n",
    "### 单层感知机\n",
    "\n",
    "单层感知机是一种最简单的神经网络模型，它只有一个神经元。它的输入是一组特征向量，每个特征向量有n个特征值，每个特征值都与一个权重相乘，再加上一个偏置项，最后通过激活函数得到输出。\n",
    "\n",
    "单层感知机的模型可以表示为：\n",
    "\n",
    "$$y = f(wx + b)$$\n",
    "\n",
    "其中，y是输出值，w是权重向量，x是输入特征向量，b是偏置项，f是激活函数。\n",
    "\n",
    "单层感知机的特点是只有一个神经元，它只能解决线性可分问题，即只能将数据集分为两类，并且这两类数据可以用一条直线或超平面进行分割。因此，单层感知机在实际应用中的能力受到了很大的限制。\n",
    "\n",
    "为了解决单层感知机无法解决非线性可分问题的问题，后来提出了**多层感知机**（Multi-Layer Perceptron，简称MLP），它可以通过多个神经元和多个隐藏层组成**神经网络**来处理更加复杂的数据集。\n",
    "\n",
    "\n",
    "### 神经网络\n",
    "\n",
    "神经网络是一种基于生物学神经元网络结构和功能的人工神经网络模型。它由若干个神经元组成，这些神经元通过连接形成一个网络，每个神经元接收多个输入信号，对它们进行加权和运算，再加上一个偏置项，最后通过一个激活函数得到输出信号。\n",
    "\n",
    "神经网络的结构可以分为输入层、隐藏层和输出层。输入层接收外部输入，隐藏层用于处理输入信号，输出层用于输出预测结果。神经网络的训练过程就是通过调整神经元之间的连接权重，使得神经网络能够自动学习输入和输出之间的关系。\n",
    "\n",
    "神经网络广泛应用于图像识别、语音识别、自然语言处理、推荐系统等领域。在深度学习中，神经网络的结构和功能不断被改进和优化，例如使用卷积神经网络、循环神经网络等结构，以应对不同的任务和数据类型。\n",
    "\n",
    "### 多层感知机\n",
    "\n",
    "多层感知机（Multilayer Perceptron，MLP）也称为全连接神经网络，是一种最基本的神经网络。它由多个全连接的神经元组成，每个神经元都与上一层的所有神经元相连，同时也与下一层的所有神经元相连。这种网络结构的主要作用是将输入数据映射到输出数据，中间的隐藏层可以学习到数据的特征，从而实现分类、回归等任务。全连接神经网络通常由输入层、若干个隐藏层和输出层组成，每个隐藏层都有多个神经元，每个神经元都使用激活函数将加权和映射到一个非线性的输出。全连接神经网络可以使用反向传播算法进行训练，以优化网络中的权重和偏置，从而使得网络的输出尽可能地接近真实值。\n",
    "\n",
    "### 隐藏层\n",
    "\n",
    "在神经网络中，隐藏层是介于输入层和输出层之间的一层或多层神经元。每个隐藏层都由若干个神经元组成，这些神经元接收来自前一层的输入信号，并对它们进行加权和运算，再加上一个偏置项，最后通过一个激活函数得到输出信号，作为下一层的输入。\n",
    "\n",
    "隐藏层的作用是将输入信号转换为更高层次的特征表示，从而使神经网络能够更好地学习输入和输出之间的关系。每个隐藏层都可以看作是对输入信号的一种非线性变换，它可以将输入信号映射到一个更高维度的特征空间中，从而使得神经网络能够更好地捕捉数据集中的复杂关系。\n",
    "\n",
    "隐藏层的数量和神经元的数量是神经网络设计中的两个重要参数，它们的选择取决于数据集的复杂度和任务的要求。通常情况下，增加隐藏层和神经元的数量可以提高神经网络的拟合能力，但也会增加训练时间和模型复杂度。因此，在实际应用中需要根据具体情况进行选择和调整。\n",
    "\n",
    "\n",
    "为了解决上节课解决不了分类问题，我们用神经元组成一个神经网络试试。\n"
   ]
  },
  {
   "cell_type": "code",
   "execution_count": 1,
   "id": "c2a02158-8f81-47ce-b154-cf789f603edb",
   "metadata": {},
   "outputs": [
    {
     "data": {
      "image/png": "[encoded data removed]",
      "text/plain": [
       "<Figure size 640x480 with 1 Axes>"
      ]
     },
     "metadata": {},
     "output_type": "display_data"
    }
   ],
   "source": [
    "import numpy as np\n",
    "import matplotlib.pyplot as plt\n",
    "\n",
    "# 生成数据集的函数\n",
    "def get_data(counts, seed=0):\n",
    "    # 设置随机数种子，保证每次生成的数据集相同\n",
    "    np.random.seed(seed)\n",
    "    # 生成随机的 x 值，并进行排序\n",
    "    xs = np.sort(np.random.rand(counts))\n",
    "    # 初始化 y 值的数组\n",
    "    ys = np.zeros(counts)\n",
    "    # 计算中间部分的索引范围\n",
    "    mid = int(counts * 0.4), int(counts * 0.6)\n",
    "    # 将中间部分的 y 值设为 1\n",
    "    ys[mid[0]:mid[1]] = 1\n",
    "    # 加入噪声\n",
    "    ys += np.random.normal(scale=0.01, size=counts)\n",
    "    # 将 y 值限制在 0 和 1 之间\n",
    "    ys = np.clip(ys, 0, 1)\n",
    "    return xs, ys\n",
    "\n",
    "# 数据大小\n",
    "n = 100\n",
    "# 生成数据集\n",
    "X, Y = get_data(n)\n",
    "\n",
    "# 打印数据集\n",
    "# print(\"X:\", X)\n",
    "# print(\"Y:\", Y)\n",
    "\n",
    "# 绘制散点图\n",
    "plt.scatter(X, Y)\n",
    "plt.show()"
   ]
  },
  {
   "cell_type": "markdown",
   "id": "6491aad9-0548-4d09-bc31-6d3a904b6655",
   "metadata": {},
   "source": [
    "我们分析一下数据，对比上一节课已经解决的二分类问题，其实只需要二个神经元（1个权重为正，1个权重为负）组成隐藏层+一个输出层合体即可。"
   ]
  }
 ],
 "metadata": {
  "kernelspec": {
   "display_name": "Python 3 (ipykernel)",
   "language": "python",
   "name": "python3"
  },
  "language_info": {
   "codemirror_mode": {
    "name": "ipython",
    "version": 3
   },
   "file_extension": ".py",
   "mimetype": "text/x-python",
   "name": "python",
   "nbconvert_exporter": "python",
   "pygments_lexer": "ipython3",
   "version": "3.11.8"
  }
 },
 "nbformat": 4,
 "nbformat_minor": 5
}
