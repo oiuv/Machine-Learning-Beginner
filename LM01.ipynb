{
 "cells": [
  {
   "cell_type": "markdown",
   "id": "b6e292dd-334f-46f3-846f-919aa9b9c44b",
   "metadata": {},
   "source": [
    "## 传统编程和机器学习\n",
    "\n",
    "传统编程和机器学习编程有什么不同？这是第一个问题，可以找AI回答解决，以下是把问题发给AI得到的答案：\n",
    "\n",
    "<div class=\"alert-success\">\n",
    "    \n",
    "1. **传统编程**：\n",
    "   - 传统编程通常是基于明确的指令和逻辑来实现功能。开发者编写代码，告诉计算机如何一步步执行任务。\n",
    "   - 它依赖于确定性算法，即对于给定的输入，总是产生相同的输出。\n",
    "   - 在传统编程中，功能实现通常需要开发者对问题有深入的理解，并能够用明确的逻辑和步骤来解决它。\n",
    "\n",
    "2. **机器学习**：\n",
    "   - 机器学习是基于数据和算法来实现功能，特别是对于那些难以用传统编程逻辑明确解决的复杂问题。\n",
    "   - 它依赖于统计模型和算法，这些算法可以从数据中学习，并做出预测或决策，而不需要明确编程每一步。\n",
    "   - 机器学习模型通过训练数据学习模式和关系，然后可以对新的、未见过的数据做出预测或分类。\n",
    "\n",
    "两者的主要区别在于：\n",
    "\n",
    "- **确定性 vs 统计性**：传统编程是确定性的，机器学习是统计性的。\n",
    "- **显式指令 vs 学习模式**：传统编程需要显式的指令，机器学习通过数据学习隐式的模式。\n",
    "- **问题解决方式**：传统编程通常解决结构化和定义明确的问题，机器学习解决那些难以用固定算法解决的问题。\n",
    "- **开发过程**：传统编程的开发过程更侧重于编码和算法设计，机器学习的开发过程更侧重于数据准备、特征工程、模型选择和调参。\n",
    "\n",
    "总的来说，传统编程和机器学习各有优势和适用场景。在实际应用中，它们经常被结合使用，以解决各种复杂的问题。例如，在机器学习项目中，传统编程用于数据处理、模型实现、训练流程控制等，而机器学习算法用于从数据中学习并做出预测。\n",
    "</div>\n",
    "\n",
    "> 机器学习编程和传统编程之间最大的区别在于它们的目的。传统编程通常是将确定性的输入映射到确定性输出的过程，这种映射是通过程序员明确编写的规则和逻辑实现的。而机器学习编程的目的是从大量的数据中自动学习输入和输出之间的关系，并通过这个关系来预测新的未知数据的输出。这个关系表现为预测函数，也被称为模型。在传统编程中，我们可以通过追踪代码来理解程序的行为。而在机器学习中，由于模型的复杂性和黑盒特质，很难直接理解模型的行为。"
   ]
  },
  {
   "cell_type": "markdown",
   "id": "eea04148-f3c3-479e-843a-c39e156285f1",
   "metadata": {},
   "source": [
    "在开始学习之前，先找AI帮写一个基础的机器学习代码看看。\n",
    "\n",
    "> 请写一个最基础的机器学习示例代码，不要使用机器学习框架。\n",
    "\n",
    "ChatGPT：好的，下面是一个不使用机器学习框架的最基础的机器学习示例代码，演示了如何从头实现一个简单的线性回归模型。这段代码通过梯度下降算法来训练模型，最后进行预测。\n",
    "\n",
    "```python\n",
    "import numpy as np\n",
    "\n",
    "# 生成示例数据\n",
    "np.random.seed(0)\n",
    "X = 2 * np.random.rand(100, 1)\n",
    "y = 4 + 3 * X + np.random.randn(100, 1)\n",
    "\n",
    "# 初始化模型参数\n",
    "theta = np.random.randn(2, 1)  # 初始化theta参数\n",
    "\n",
    "# 添加x0 = 1到每个实例\n",
    "X_b = np.c_[np.ones((100, 1)), X]  # 添加x0 = 1到每个实例\n",
    "\n",
    "# 定义超参数\n",
    "learning_rate = 0.01\n",
    "n_iterations = 1000\n",
    "\n",
    "# 梯度下降算法\n",
    "for iteration in range(n_iterations):\n",
    "    gradients = 2 / 100 * X_b.T.dot(X_b.dot(theta) - y)\n",
    "    theta = theta - learning_rate * gradients\n",
    "\n",
    "# 输出训练得到的参数\n",
    "print(f\"theta: \\n{theta}\")\n",
    "\n",
    "# 使用训练好的模型进行预测\n",
    "X_new = np.array([[0], [2]])\n",
    "X_new_b = np.c_[np.ones((2, 1)), X_new]\n",
    "y_predict = X_new_b.dot(theta)\n",
    "\n",
    "print(f\"Predictions: \\n{y_predict}\")\n",
    "\n",
    "# 画图\n",
    "import matplotlib.pyplot as plt\n",
    "\n",
    "plt.plot(X, y, \"b.\")\n",
    "plt.plot(X_new, y_predict, \"r-\", linewidth=2, label=\"Predictions\")\n",
    "plt.xlabel(\"$x_1$\", fontsize=18)\n",
    "plt.ylabel(\"$y$\", rotation=0, fontsize=18)\n",
    "plt.legend(loc=\"upper left\", fontsize=14)\n",
    "plt.show()\n",
    "```\n",
    "\n",
    "> 代码说明\n",
    "1. **生成示例数据**：使用 `numpy` 生成一些线性数据，带有一定的噪声。\n",
    "2. **初始化模型参数**：随机初始化模型参数 `theta`。\n",
    "3. **添加偏置项**：在输入数据 `X` 中添加一列全为1的项，作为偏置（截距）项。\n",
    "4. **定义超参数**：设置学习率和迭代次数。\n",
    "5. **梯度下降算法**：迭代更新 `theta` 参数，使损失函数（均方误差）最小化。\n",
    "6. **预测**：使用训练好的模型对新数据进行预测。\n",
    "7. **画图**：绘制训练数据和预测结果的图形。\n",
    "\n",
    "这段代码通过简单的梯度下降算法实现了一个基本的线性回归模型，并用生成的示例数据进行了训练和预测。"
   ]
  },
  {
   "cell_type": "code",
   "execution_count": 8,
   "id": "220652cc-54be-4cef-9256-28bba0f69d30",
   "metadata": {},
   "outputs": [
    {
     "name": "stdout",
     "output_type": "stream",
     "text": [
      "theta: \n",
      "[[4.20607718]\n",
      " [2.98273036]]\n",
      "Predictions: \n",
      "[[ 4.20607718]\n",
      " [10.17153789]]\n"
     ]
    },
    {
     "data": {
      "image/png": "[encoded data removed]",
      "text/plain": [
       "<Figure size 640x480 with 1 Axes>"
      ]
     },
     "metadata": {},
     "output_type": "display_data"
    }
   ],
   "source": [
    "import numpy as np\n",
    "\n",
    "# 生成示例数据\n",
    "np.random.seed(0)\n",
    "X = 2 * np.random.rand(100, 1)\n",
    "y = 4 + 3 * X + np.random.randn(100, 1)\n",
    "\n",
    "# 初始化模型参数\n",
    "theta = np.random.randn(2, 1)  # 初始化theta参数\n",
    "\n",
    "# 添加x0 = 1到每个实例\n",
    "X_b = np.c_[np.ones((100, 1)), X]  # 添加x0 = 1到每个实例\n",
    "\n",
    "# 定义超参数\n",
    "learning_rate = 0.01\n",
    "n_iterations = 1000\n",
    "\n",
    "# 梯度下降算法\n",
    "for iteration in range(n_iterations):\n",
    "    gradients = 2 / 100 * X_b.T.dot(X_b.dot(theta) - y)\n",
    "    theta = theta - learning_rate * gradients\n",
    "\n",
    "# 输出训练得到的参数\n",
    "print(f\"theta: \\n{theta}\")\n",
    "\n",
    "# 使用训练好的模型进行预测\n",
    "X_new = np.array([[0], [2]])\n",
    "X_new_b = np.c_[np.ones((2, 1)), X_new]\n",
    "y_predict = X_new_b.dot(theta)\n",
    "\n",
    "print(f\"Predictions: \\n{y_predict}\")\n",
    "\n",
    "# 画图\n",
    "import matplotlib.pyplot as plt\n",
    "\n",
    "plt.plot(X, y, \"b.\")\n",
    "plt.plot(X_new, y_predict, \"r-\", linewidth=2, label=\"Predictions\")\n",
    "plt.xlabel(\"$x_1$\", fontsize=18)\n",
    "plt.ylabel(\"$y$\", rotation=0, fontsize=18)\n",
    "plt.legend(loc=\"upper left\", fontsize=14)\n",
    "plt.show()\n"
   ]
  },
  {
   "cell_type": "markdown",
   "id": "f77e69ff-ec06-474d-a170-fed22da018c4",
   "metadata": {},
   "source": [
    "以上代码是给定一组数据$X$和$y$，使用机器学习得到一个一元一次函数$y=wx+b$，$w$和$b$就是参数$theta$，我们先看看相关的具体数据："
   ]
  },
  {
   "cell_type": "code",
   "execution_count": 3,
   "id": "4d66b6dc-602f-4b44-84c6-8b905d6862b2",
   "metadata": {},
   "outputs": [
    {
     "data": {
      "text/plain": [
       "array([[1.09762701],\n",
       "       [1.43037873],\n",
       "       [1.20552675],\n",
       "       [1.08976637],\n",
       "       [0.8473096 ],\n",
       "       [1.29178823],\n",
       "       [0.87517442],\n",
       "       [1.783546  ],\n",
       "       [1.92732552],\n",
       "       [0.76688304],\n",
       "       [1.58345008],\n",
       "       [1.05778984],\n",
       "       [1.13608912],\n",
       "       [1.85119328],\n",
       "       [0.14207212],\n",
       "       [0.1742586 ],\n",
       "       [0.04043679],\n",
       "       [1.66523969],\n",
       "       [1.5563135 ],\n",
       "       [1.7400243 ],\n",
       "       [1.95723668],\n",
       "       [1.59831713],\n",
       "       [0.92295872],\n",
       "       [1.56105835],\n",
       "       [0.23654885],\n",
       "       [1.27984204],\n",
       "       [0.28670657],\n",
       "       [1.88933783],\n",
       "       [1.04369664],\n",
       "       [0.82932388],\n",
       "       [0.52911122],\n",
       "       [1.54846738],\n",
       "       [0.91230066],\n",
       "       [1.1368679 ],\n",
       "       [0.0375796 ],\n",
       "       [1.23527099],\n",
       "       [1.22419145],\n",
       "       [1.23386799],\n",
       "       [1.88749616],\n",
       "       [1.3636406 ],\n",
       "       [0.7190158 ],\n",
       "       [0.87406391],\n",
       "       [1.39526239],\n",
       "       [0.12045094],\n",
       "       [1.33353343],\n",
       "       [1.34127574],\n",
       "       [0.42076512],\n",
       "       [0.2578526 ],\n",
       "       [0.6308567 ],\n",
       "       [0.72742154],\n",
       "       [1.14039354],\n",
       "       [0.87720303],\n",
       "       [1.97674768],\n",
       "       [0.20408962],\n",
       "       [0.41775351],\n",
       "       [0.32261904],\n",
       "       [1.30621665],\n",
       "       [0.50658321],\n",
       "       [0.93262155],\n",
       "       [0.48885118],\n",
       "       [0.31793917],\n",
       "       [0.22075028],\n",
       "       [1.31265918],\n",
       "       [0.2763659 ],\n",
       "       [0.39316472],\n",
       "       [0.73745034],\n",
       "       [1.64198646],\n",
       "       [0.19420255],\n",
       "       [1.67588981],\n",
       "       [0.19219682],\n",
       "       [1.95291893],\n",
       "       [0.9373024 ],\n",
       "       [1.95352218],\n",
       "       [1.20969104],\n",
       "       [1.47852716],\n",
       "       [0.07837558],\n",
       "       [0.56561393],\n",
       "       [0.24039312],\n",
       "       [0.5922804 ],\n",
       "       [0.23745544],\n",
       "       [0.63596636],\n",
       "       [0.82852599],\n",
       "       [0.12829499],\n",
       "       [1.38494424],\n",
       "       [1.13320291],\n",
       "       [0.53077898],\n",
       "       [1.04649611],\n",
       "       [0.18788102],\n",
       "       [1.15189299],\n",
       "       [1.8585924 ],\n",
       "       [0.6371379 ],\n",
       "       [1.33482076],\n",
       "       [0.26359572],\n",
       "       [1.43265441],\n",
       "       [0.57881219],\n",
       "       [0.36638272],\n",
       "       [1.17302587],\n",
       "       [0.04021509],\n",
       "       [1.65788006],\n",
       "       [0.00939095]])"
      ]
     },
     "execution_count": 3,
     "metadata": {},
     "output_type": "execute_result"
    }
   ],
   "source": [
    "X"
   ]
  },
  {
   "cell_type": "code",
   "execution_count": 4,
   "id": "fc9eefff-db70-44b8-a630-fb6f6d762336",
   "metadata": {},
   "outputs": [
    {
     "data": {
      "text/plain": [
       "array([[ 6.12773118],\n",
       "       [ 9.19196269],\n",
       "       [ 8.0822427 ],\n",
       "       [ 5.73305541],\n",
       "       [ 8.03018099],\n",
       "       [ 9.77125385],\n",
       "       [ 7.80430284],\n",
       "       [ 9.17071317],\n",
       "       [ 8.71122394],\n",
       "       [ 7.35510084],\n",
       "       [ 8.34717328],\n",
       "       [ 8.39581459],\n",
       "       [ 7.61654234],\n",
       "       [10.53021887],\n",
       "       [ 4.78258275],\n",
       "       [ 5.22934897],\n",
       "       [ 4.13181041],\n",
       "       [10.78158957],\n",
       "       [ 8.7958526 ],\n",
       "       [ 9.62206225],\n",
       "       [11.75486075],\n",
       "       [ 7.44719232],\n",
       "       [ 5.49839118],\n",
       "       [ 9.65257177],\n",
       "       [ 3.53652315],\n",
       "       [ 9.78314731],\n",
       "       [ 4.44650074],\n",
       "       [ 8.92055869],\n",
       "       [ 9.05403196],\n",
       "       [ 7.96848643],\n",
       "       [ 7.45489263],\n",
       "       [ 9.55144679],\n",
       "       [ 5.87567631],\n",
       "       [ 9.32066865],\n",
       "       [ 3.84473543],\n",
       "       [ 8.50826938],\n",
       "       [ 8.6198263 ],\n",
       "       [ 7.54659389],\n",
       "       [10.27656784],\n",
       "       [ 9.01312847],\n",
       "       [ 6.53347293],\n",
       "       [ 5.52279093],\n",
       "       [ 8.48402535],\n",
       "       [ 5.68773873],\n",
       "       [ 7.30603243],\n",
       "       [ 7.87419268],\n",
       "       [ 4.82714181],\n",
       "       [ 6.62282151],\n",
       "       [ 6.56486486],\n",
       "       [ 6.58972646],\n",
       "       [ 6.65126455],\n",
       "       [ 7.17085827],\n",
       "       [ 9.25591037],\n",
       "       [ 4.64409942],\n",
       "       [ 4.61741446],\n",
       "       [ 5.6442904 ],\n",
       "       [ 8.49524077],\n",
       "       [ 5.31145086],\n",
       "       [ 7.19387135],\n",
       "       [ 4.37349204],\n",
       "       [ 3.46255991],\n",
       "       [ 5.10164255],\n",
       "       [ 8.10465103],\n",
       "       [ 5.46412914],\n",
       "       [ 7.56263894],\n",
       "       [ 7.15683051],\n",
       "       [ 8.01313715],\n",
       "       [ 5.69962394],\n",
       "       [ 7.71176203],\n",
       "       [ 4.11500584],\n",
       "       [ 9.79051518],\n",
       "       [ 8.52524993],\n",
       "       [ 9.11581171],\n",
       "       [ 6.80263458],\n",
       "       [ 8.33712895],\n",
       "       [ 3.57164847],\n",
       "       [ 6.8234777 ],\n",
       "       [ 3.64124786],\n",
       "       [ 4.62937253],\n",
       "       [ 4.27454627],\n",
       "       [ 5.40986663],\n",
       "       [ 8.41511002],\n",
       "       [ 5.33430579],\n",
       "       [ 8.24238396],\n",
       "       [ 6.17417321],\n",
       "       [ 6.43669992],\n",
       "       [ 6.13927297],\n",
       "       [ 3.01887197],\n",
       "       [ 8.64370877],\n",
       "       [ 9.8927198 ],\n",
       "       [ 6.83227254],\n",
       "       [ 8.32318993],\n",
       "       [ 5.64761779],\n",
       "       [ 7.64693763],\n",
       "       [ 4.70219372],\n",
       "       [ 5.78074269],\n",
       "       [ 6.71566794],\n",
       "       [ 3.4310955 ],\n",
       "       [ 8.51810767],\n",
       "       [ 4.04565202]])"
      ]
     },
     "execution_count": 4,
     "metadata": {},
     "output_type": "execute_result"
    }
   ],
   "source": [
    "y"
   ]
  },
  {
   "cell_type": "code",
   "execution_count": 5,
   "id": "fda0a004-98a9-442a-a227-9447d4327e5d",
   "metadata": {
    "scrolled": true
   },
   "outputs": [
    {
     "data": {
      "text/plain": [
       "array([[4.20607718],\n",
       "       [2.98273036]])"
      ]
     },
     "execution_count": 5,
     "metadata": {},
     "output_type": "execute_result"
    }
   ],
   "source": [
    "theta"
   ]
  },
  {
   "cell_type": "markdown",
   "id": "380a8761-cc84-42a2-aa63-f97b4368ab47",
   "metadata": {},
   "source": [
    "也就是最终得到的函数是：$y=2.98x+4.2$"
   ]
  },
  {
   "cell_type": "markdown",
   "id": "0498ba44-3921-4c63-81d7-a1291e3e039a",
   "metadata": {},
   "source": [
    "在机器学习中`y=wx+b` 是一个常见的线性回归模型，其中：\n",
    "- `y` 是模型的输出，表示需要预测的目标变量，也是有监督学习中的标签；\n",
    "- `w` 是模型的权重，表示输入变量（或特征）对目标变量的影响程度，是需要优化学习的模型参数；\n",
    "- `x` 是模型的输入，表示特征变量；\n",
    "- `b` 是模型的偏置项，表示模型在没有任何输入时的输出，也是需要优化学习的模型参数。\n",
    "\n",
    "线性回归模型适用于输入与输出之间存在线性关系的情况，例如预测房屋价格、预测销售额等。模型的训练过程通常是最小化平方误差损失函数，因此优化过程就是寻找最优的权重 `w` 和偏置项 `b`，使得预测值 `y` 与真实值的平方误差最小。\n",
    "\n",
    "> 在实际应用中， `y=wx+b` 可能会因为应用场景的不同，而有所调整。例如，当 `y` 表示分类结果时，可能需要将输出通过一个激活函数（如sigmoid函数）转化为概率值，并使用交叉熵损失函数进行优化，这样的模型称为逻辑回归。\n",
    "\n",
    "在开始机器学习项目之前，先介绍几个重要概念：\n",
    "\n",
    "### 模型·参数·特征·标签\n",
    "\n",
    "在chatGPT火了后，我们听到最多的就是大语言模型，然后各大科技公司都在推自己的大模型，也有很多开源的模型，那什么是模型？在机器学习中，模型指的是用来进行数据预测、分类、聚类等任务的算法或数学模型。模型可以是简单的线性模型，也可以是复杂的深度神经网络模型，其目的是对数据进行建模。\n",
    "\n",
    "把概念简化，**模型就是预测函数**，只是大模型的函数很复杂，模型通常包括两个基本要素：参数和假设空间。参数指的是模型中待优化的参数，也可以称为模型的权重和偏置等。假设空间指的是模型能够表示的所有可能函数的集合。\n",
    "\n",
    "以一元一次函数$y=wx+b$为例，这是初中学习的数学知识，但在机器学习中这就是一个常见的线性回归模型，我们对比一下数学概念和机器学习的不同：\n",
    "\n",
    "示例|数学|机器学习\n",
    "-|-|-\n",
    "y=wx+b|函数|模型\n",
    "x|自变量|特征\n",
    "y|因变量|标签\n",
    "w|斜率|参数（权重）\n",
    "b|截距|参数（偏置）\n",
    "\n",
    "相对GPT3有1750亿个参数，$y=wx+b$只有2个参数$w$和$b$，虽然没有可比性，但这就是一个完整的模型，当然也是最基础的模型。\n",
    "\n",
    "> 一元一次函数\n",
    "\n",
    "一元一次函数是指形如$y = ax + b$的函数，其中a和b是常数，x是自变量，y是因变量。这个函数图像是一条直线，斜率为a，截距为b。\n",
    "\n",
    "一元一次函数的性质包括：\n",
    "\n",
    "1. 斜率表示函数的增长速度，斜率为正表示函数单调递增，斜率为负表示函数单调递减，斜率为零表示函数是常数函数。\n",
    "2. 截距表示函数与y轴的交点，即在x=0时的函数值。\n",
    "3. 当x取不同的值时，y值的变化量与x的变化量成比例关系，比例系数即为斜率，这被称为函数的线性性。\n",
    "4. 对于两个一元一次函数f(x)和g(x)，其求和、差、积仍是一元一次函数。\n",
    "5. 两个一元一次函数的平等与斜率相等且截距相等。\n",
    "\n",
    "一元一次函数在实际问题中有广泛的应用，例如在经济学、工程学、物理学等领域中使用较多。"
   ]
  },
  {
   "cell_type": "markdown",
   "id": "3641bf13-1cf2-4ccb-a068-c08042bec6e9",
   "metadata": {},
   "source": [
    "<div class=\"alert-warning\">\n",
    "\n",
    "**提示**\n",
    "    从这里也基本可以看到机器学习和传统编程要解决的问题的差别。在传统编程一般是对函数$y=wx+b$，已知$w$和$b$，写代码也是解决输入$x$求$y$的问题，得到的结果是确定的。而机器学习是根据输入$X$和输出$y$求$w$和$b$（而且这个得到的值还是近似值，根据超参数的不同值可能得到不同的结果），得到一个模型，再用这个模型来预测结果。\n",
    "</div>"
   ]
  },
  {
   "cell_type": "markdown",
   "id": "4ddec7de-63dd-4390-bcd6-737616c2513f",
   "metadata": {},
   "source": [
    "以上代码读懂没什么问题，但是做为入门还不够基础，因为你肯定没看明白机器是怎么学习的，那段梯度下降的代码为什么要这样写你肯定也是没搞懂的，而且上来就用矩阵对新手不友好。\n",
    "\n",
    "我们在初中学物理时都从解决理想状态下的问题开始，在没有摩擦、空气阻力、或其他干扰因素的条件下，使用简化的模型来演示和解释物理现象。所以这里也一样，我们先从最基础的情况下开始。\n",
    "\n",
    "以上AI给的示例输出和输出数据是有波动的，我们先从一个确定的数据开始模拟学习，而且为了进一步简化，我们直接从一个$b=0$的模型$y=3x$开始:"
   ]
  },
  {
   "cell_type": "code",
   "execution_count": 9,
   "id": "35f2a927-4b8b-48f4-a1d1-89ed94989c77",
   "metadata": {},
   "outputs": [
    {
     "data": {
      "image/png": "[encoded data removed]",
      "text/plain": [
       "<Figure size 640x480 with 1 Axes>"
      ]
     },
     "metadata": {},
     "output_type": "display_data"
    }
   ],
   "source": [
    "import numpy as np\n",
    "import matplotlib.pyplot as plt\n",
    "\n",
    "X = np.array([-1, 0, 1, 2, 3, 4])\n",
    "Y = np.array([-3, 0, 3, 6, 9, 12])\n",
    "\n",
    "# 绘制图像\n",
    "plt.plot(X, Y)\n",
    "plt.scatter(X,Y)\n",
    "plt.xlabel('x')\n",
    "plt.ylabel('y')\n",
    "plt.grid(True)\n",
    "plt.show()"
   ]
  },
  {
   "cell_type": "markdown",
   "id": "3a292e00-f55a-4063-8d6d-c79ddd1e69c4",
   "metadata": {},
   "source": [
    "## 解析计算\n",
    "\n",
    "从几何上也可以看出是一个标准的一元一次函数，那在传统编程上，我们应该怎么得到这个函数？以下是示例代码："
   ]
  },
  {
   "cell_type": "code",
   "execution_count": 10,
   "id": "5bdca2c2-75b5-4e28-b7e2-a7978b067e65",
   "metadata": {},
   "outputs": [
    {
     "name": "stdout",
     "output_type": "stream",
     "text": [
      "y = 3.0x + 0.0\n"
     ]
    }
   ],
   "source": [
    "# 导入NumPy库\n",
    "import numpy as np\n",
    "\n",
    "# 给定数据X和Y\n",
    "X = np.array([-1, 0, 1, 2, 3, 4])\n",
    "Y = np.array([-3, 0, 3, 6, 9, 12])\n",
    "\n",
    "# 获取X的长度作为样本数n\n",
    "n = len(X)\n",
    "\n",
    "# 计算X和Y的乘积的和，即xy\n",
    "xy = np.sum(X * Y)\n",
    "\n",
    "# 计算X和Y的和，即x_sum和y_sum\n",
    "x_sum = np.sum(X)\n",
    "y_sum = np.sum(Y)\n",
    "\n",
    "# 计算X的平方和，即x_square_sum\n",
    "x_square_sum = np.sum(X**2)\n",
    "\n",
    "# 求解斜率a和截距b\n",
    "a = (n * xy - x_sum * y_sum) / (n * x_square_sum - x_sum**2)\n",
    "b = (y_sum - a * x_sum) / n\n",
    "\n",
    "# 输出线性回归方程\n",
    "print(f\"y = {a}x + {b}\")\n"
   ]
  },
  {
   "cell_type": "markdown",
   "id": "ea93fc4f-69e3-4696-b88f-6189d8a47359",
   "metadata": {},
   "source": [
    "以上求解就是已知函数是$y=ax+b$，直接根据最小二乘法求得$a$和$b$的具体值，这就是传统编程的计算，但这要求数据量不大，而且数据集是确定的。\n",
    "\n",
    "计算是指利用数学公式、算法等规则，对给定的输入数据进行运算和处理，以获得特定的输出结果。计算通常是由机器、计算器等程序自动完成的过程，其结果是事先预测好的，并且通常不需要进行专门的训练和调整，它不具备适应性，且不可能具有超出预设范围的计算能力。例如，加、减、乘、除等算术运算、向量和矩阵计算、逻辑运算等都属于计算。\n",
    "\n",
    "以上数据只有6条，计算没难度，但面对复杂情况，数据一直在更新，怎么算？数据量及其庞大根本算不动，怎么办？下面我们换个角度，用学习的方式预测X和Y的关系。\n",
    "\n",
    "## 机器学习\n",
    "\n",
    "学习是指利用给定的数据或经验，通过训练和调整模型参数或结构，使模型能够对新的数据或未知情况做出准确的预测或判断。学习是一种能够自主发现模式、调整模型的过程，其结果可以自动优化以最大化预测精度，这样数据量多大都没关系，而且活到老，学到老，随着数据的增加，经验会更丰富，学到的结果会表情准确。\n",
    "\n",
    "$y=wx+b$是有二个参数的模型，为了方便学习，我们先从最简单的$y=wx$开始，根据特征x和标签y来预测$w$。\n",
    "\n",
    "学习的方式很简单， 我们先猜一个w值，然后根据特征x计算wx的结果，对比标签y判断误差$e=y-y_x$，然后根据误差e重新调整w，再次计算。\n",
    "\n",
    "怎么根据误差e调整w呢？具体算法如下：\n",
    "\n",
    "> 在$x>0$时,如果初始化的w大了，e为负数，w小了，e为正数，通过$w=w+e$可以调整参数w，而在$x<0$时，如果w大了，e为正数，w小了，e为负数，这时$w=w-e$，和$x>0$时调整方向相反。为了统一计算方式，使用$w=w+ex$可以巧妙的解决问题，但是e乘以x后存在调整幅度过大可能造成无法收敛的问题，需要通过增加学习率a来限制w的调整幅度，最终权值调整模型为$w=w+\\alpha \\cdot w\\cdot x$。\n",
    "\n",
    "<div class=\"alert-success\">\n",
    "\n",
    "0. 建立线性回归模型：$y=wx$\n",
    "1. 初始化权值参数$w=0$\n",
    "2. 根据权限计算响应$y_x=wx$\n",
    "3. 根据真实数据计算误差$e=y-y_x$\n",
    "4. 自适应调整权值$w=w+a*e*x$(a为学习率)\n",
    "5. 回到第2步循环计算\n",
    "\n",
    "</div>\n",
    "\n",
    "通过以上方式就实现了最简单的机器学习。"
   ]
  },
  {
   "cell_type": "code",
   "execution_count": 11,
   "id": "3ef4f839-24f1-4eff-a924-70b09629decc",
   "metadata": {},
   "outputs": [
    {
     "name": "stdout",
     "output_type": "stream",
     "text": [
      "第 1 次学习结果 0.30000000000000004\n",
      "第 2 次学习结果 0.30000000000000004\n",
      "第 3 次学习结果 0.5700000000000001\n",
      "第 4 次学习结果 1.542\n",
      "第 5 次学习结果 2.8542\n",
      "第 6 次学习结果 3.08748\n"
     ]
    },
    {
     "data": {
      "image/png": "[encoded data removed]",
      "text/plain": [
       "<Figure size 640x480 with 1 Axes>"
      ]
     },
     "metadata": {},
     "output_type": "display_data"
    }
   ],
   "source": [
    "import numpy as np\n",
    "import matplotlib.pyplot as plt\n",
    "\n",
    "# 给定数据X和Y\n",
    "X = np.array([-1, 0, 1, 2, 3, 4])\n",
    "Y = np.array([-3, 0, 3, 6, 9, 12])\n",
    "\n",
    "# 获取X的长度作为样本数n\n",
    "n = len(X)\n",
    "\n",
    "# 设置超参数学习率\n",
    "alpha = 0.1\n",
    "# 初始化权重w\n",
    "w = 0\n",
    "\n",
    "for i in range(n):\n",
    "    x = X[i]\n",
    "    y = Y[i]\n",
    "    y_pre = w * x\n",
    "    e = y - y_pre\n",
    "    w = w + alpha * e * x\n",
    "    print(\"第 {} 次学习结果 {}\".format((i + 1), w))\n",
    "\n",
    "y_pre = w * X\n",
    "plt.scatter(X, Y)\n",
    "plt.plot(X, y_pre)\n",
    "plt.show()"
   ]
  },
  {
   "cell_type": "markdown",
   "id": "eae3093a-cbf8-49c1-9785-8eceaa149ebb",
   "metadata": {},
   "source": [
    "提示：你可以把以上二种实现方式的代码发给AI问问它这二种方案的区别，可以更好的理解传统编程和机器学习。"
   ]
  },
  {
   "cell_type": "markdown",
   "id": "c67321f0-864d-448c-87eb-affdbf99fc00",
   "metadata": {},
   "source": [
    "以上示例中我们设置了学习率alpha为0.1，对6条数据学习后得到$w=3.08748$，好像结果还不错，但我们知道真实值是3.0，所以能直接知道差距，实际的机器学习是通过测试集来评估模型的效果的，这里先不管了。\n",
    "\n",
    "下面把alpha设为0.03和0.3试试：\n"
   ]
  },
  {
   "cell_type": "code",
   "execution_count": 12,
   "id": "eab46a32-8aa8-4745-8455-972d5fb56d4a",
   "metadata": {},
   "outputs": [
    {
     "name": "stdout",
     "output_type": "stream",
     "text": [
      "第 1 次学习结果 0.09\n",
      "第 2 次学习结果 0.09\n",
      "第 3 次学习结果 0.1773\n",
      "第 4 次学习结果 0.516024\n",
      "第 5 次学习结果 1.18669752\n",
      "第 6 次学习结果 2.0570827104\n"
     ]
    },
    {
     "data": {
      "image/png": "[encoded data removed]",
      "text/plain": [
       "<Figure size 640x480 with 1 Axes>"
      ]
     },
     "metadata": {},
     "output_type": "display_data"
    }
   ],
   "source": [
    "import numpy as np\n",
    "import matplotlib.pyplot as plt\n",
    "\n",
    "# 给定数据X和Y\n",
    "X = np.array([-1, 0, 1, 2, 3, 4])\n",
    "Y = np.array([-3, 0, 3, 6, 9, 12])\n",
    "\n",
    "# 获取X的长度作为样本数n\n",
    "n = len(X)\n",
    "\n",
    "# 设置超参数学习率\n",
    "alpha = 0.03\n",
    "# 初始化权重w\n",
    "w = 0\n",
    "\n",
    "for i in range(n):\n",
    "    x = X[i]\n",
    "    y = Y[i]\n",
    "    y_pre = w * x\n",
    "    e = y - y_pre\n",
    "    w = w + alpha * e * x\n",
    "    print(\"第 {} 次学习结果 {}\".format((i + 1), w))\n",
    "\n",
    "y_pre = w * X\n",
    "plt.scatter(X, Y)\n",
    "plt.plot(X, y_pre)\n",
    "plt.show()"
   ]
  },
  {
   "cell_type": "markdown",
   "id": "c2f1cb6b-00c7-4d38-a173-9cba4dd174f1",
   "metadata": {},
   "source": [
    "学习率过小，学少了，这在机器学习中叫欠拟合。\n",
    "\n",
    "### 欠拟合（Underfitting）\n",
    "\n",
    "当学习率设得太小时，模型的参数更新速度非常慢，这可能导致模型在训练过程中未能充分学习数据的模式，从而表现为欠拟合。欠拟合的模型在训练集和测试集上的表现都不好，因为它未能捕捉到数据中的规律。"
   ]
  },
  {
   "cell_type": "code",
   "execution_count": 29,
   "id": "89802237-f7c1-48d8-82e6-5e0a2c1409d2",
   "metadata": {},
   "outputs": [
    {
     "name": "stdout",
     "output_type": "stream",
     "text": [
      "第 1 次学习结果 0.8999999999999999\n",
      "第 2 次学习结果 0.8999999999999999\n",
      "第 3 次学习结果 1.5299999999999998\n",
      "第 4 次学习结果 3.294\n",
      "第 5 次学习结果 2.5002000000000004\n",
      "第 6 次学习结果 4.899239999999999\n"
     ]
    },
    {
     "data": {
      "image/png": "[encoded data removed]",
      "text/plain": [
       "<Figure size 640x480 with 1 Axes>"
      ]
     },
     "metadata": {},
     "output_type": "display_data"
    }
   ],
   "source": [
    "import numpy as np\n",
    "import matplotlib.pyplot as plt\n",
    "\n",
    "# 给定数据X和Y\n",
    "X = np.array([-1, 0, 1, 2, 3, 4])\n",
    "Y = np.array([-3, 0, 3, 6, 9, 12])\n",
    "\n",
    "# 获取X的长度作为样本数n\n",
    "n = len(X)\n",
    "\n",
    "# 设置超参数学习率\n",
    "alpha = 0.3\n",
    "# 初始化权重w\n",
    "w = 0\n",
    "\n",
    "for i in range(n):\n",
    "    x = X[i]\n",
    "    y = Y[i]\n",
    "    y_pre = w * x\n",
    "    e = y - y_pre\n",
    "    w = w + alpha * e * x\n",
    "    print(\"第 {} 次学习结果 {}\".format((i + 1), w))\n",
    "\n",
    "y_pre = w * X\n",
    "plt.scatter(X, Y)\n",
    "plt.plot(X, y_pre)\n",
    "plt.show()"
   ]
  },
  {
   "cell_type": "markdown",
   "id": "3a935f69-7deb-404e-b03a-2951170b42bd",
   "metadata": {},
   "source": [
    "学习率设大了，学过了，这在机器学习中叫发散（注意不是过拟合）\n",
    "\n",
    "当学习率设得太大时，模型的参数更新幅度过大，可能会导致模型参数在优化过程中震荡，甚至远离最优解。这种情况可能表现为过拟合，或者在更严重的情况下，模型会发散，无法收敛到一个稳定的解。\n",
    "\n",
    "### 过拟合（Overfitting）\n",
    "\n",
    "过拟合是机器学习中的一个常见问题，指的是模型在训练数据上表现得很好，但在新数据（即测试数据或验证数据）上表现较差。这是因为模型过于复杂，以至于它不仅捕捉到了训练数据中的实际模式，还拟合了数据中的噪声和偶然性。\n",
    "\n",
    "过拟合的表现\n",
    "\n",
    "- **训练误差很低**：模型在训练数据上的误差非常低，几乎能完美地预测训练数据。\n",
    "- **测试误差很高**：模型在测试数据上的误差很高，预测效果差，因为模型对训练数据的过度拟合导致其无法很好地泛化到未见过的数据。\n",
    "\n",
    "### 发散（Divergence）\n",
    "\n",
    "发散指的是模型在训练过程中，模型的参数更新没有收敛到一个稳定的值，甚至可能变得越来越大。这通常是由于训练过程中参数更新过大导致的，通常与过大的学习率有关。"
   ]
  },
  {
   "cell_type": "markdown",
   "id": "3a7efbf9-11cb-462b-9a9d-5a28c434be1c",
   "metadata": {},
   "source": [
    "我们注意到，这里学习率设置太影响结果了，设置的不对直接得到误差极大的结果，这是因为我们数据集太小了，只训练一轮完全不够学，可以通过增加学习次数来解决。\n",
    "\n",
    "下面我们引入学习次数epochs多轮训练，再看看效果：\n"
   ]
  },
  {
   "cell_type": "code",
   "execution_count": 15,
   "id": "a052acc7-ed86-48b9-b7cb-9eeecfafda13",
   "metadata": {},
   "outputs": [
    {
     "name": "stdout",
     "output_type": "stream",
     "text": [
      "第 6 次学习结果 2.0570827104\n",
      "第 12 次学习结果 2.7036356616577963\n",
      "第 18 次学习结果 2.9068509804520906\n",
      "第 24 次学习结果 2.9707227263196625\n",
      "第 30 次学习结果 2.9907979841514862\n",
      "第 36 次学习结果 2.9971077533857544\n",
      "第 42 次学习结果 2.999090950220547\n",
      "第 48 次学习结果 2.999714280415282\n",
      "第 54 次学习结果 2.999910196687864\n",
      "第 60 次学习结果 2.999971774301441\n",
      "第 66 次学习结果 2.9999911285002727\n",
      "第 72 次学习结果 2.9999972116365075\n",
      "第 78 次学习结果 2.999999123601284\n",
      "第 84 次学习结果 2.9999997245428327\n",
      "第 90 次学习结果 2.999999913422225\n",
      "第 96 次学习结果 2.9999999727881064\n",
      "第 102 次学习结果 2.999999991447145\n",
      "第 108 次学习结果 2.9999999973117886\n",
      "第 114 次学习结果 2.9999999991550794\n",
      "第 120 次学习结果 2.9999999997344364\n",
      "第 126 次学习结果 2.999999999916532\n",
      "第 132 次学习结果 2.9999999999737654\n",
      "第 138 次学习结果 2.999999999991754\n",
      "第 144 次学习结果 2.9999999999974083\n",
      "第 150 次学习结果 2.9999999999991855\n",
      "第 156 次学习结果 2.9999999999997438\n",
      "第 162 次学习结果 2.9999999999999196\n",
      "第 168 次学习结果 2.9999999999999747\n",
      "第 174 次学习结果 2.999999999999992\n",
      "第 180 次学习结果 2.999999999999998\n",
      "第 186 次学习结果 2.999999999999999\n",
      "第 192 次学习结果 2.9999999999999996\n",
      "第 198 次学习结果 2.9999999999999996\n",
      "第 204 次学习结果 2.9999999999999996\n",
      "第 210 次学习结果 2.9999999999999996\n",
      "第 216 次学习结果 2.9999999999999996\n",
      "第 222 次学习结果 2.9999999999999996\n",
      "第 228 次学习结果 2.9999999999999996\n",
      "第 234 次学习结果 2.9999999999999996\n",
      "第 240 次学习结果 2.9999999999999996\n"
     ]
    },
    {
     "data": {
      "image/png": "[encoded data removed]",
      "text/plain": [
       "<Figure size 640x480 with 1 Axes>"
      ]
     },
     "metadata": {},
     "output_type": "display_data"
    }
   ],
   "source": [
    "import numpy as np\n",
    "import matplotlib.pyplot as plt\n",
    "\n",
    "# 给定数据X和Y\n",
    "X = np.array([-1, 0, 1, 2, 3, 4])\n",
    "Y = np.array([-3, 0, 3, 6, 9, 12])\n",
    "\n",
    "# 获取X的长度作为样本数n\n",
    "n = len(X)\n",
    "\n",
    "# 设置超参数学习率\n",
    "alpha = 0.03\n",
    "# 初始化权重w\n",
    "w = 0\n",
    "# 设置超参数迭代次数\n",
    "epochs = 40\n",
    "\n",
    "for m in range(epochs):\n",
    "    for i in range(n):\n",
    "        x = X[i]\n",
    "        y = Y[i]\n",
    "        y_pre = w * x\n",
    "        e = y - y_pre\n",
    "        w = w + alpha * e * x\n",
    "    print(\"第 {} 次学习结果 {}\".format((m + 1) * n, w))\n",
    "\n",
    "y_pre = w * X\n",
    "plt.scatter(X, Y)\n",
    "plt.plot(X, y_pre)\n",
    "plt.show()"
   ]
  },
  {
   "cell_type": "code",
   "execution_count": 16,
   "id": "5eca8972-89af-4e6d-b6d7-af2978e794e1",
   "metadata": {},
   "outputs": [
    {
     "name": "stdout",
     "output_type": "stream",
     "text": [
      "第 6 次学习结果 2.76174\n",
      "第 12 次学习结果 2.9810773908\n",
      "第 18 次学习结果 2.998497166377336\n",
      "第 24 次学习结果 2.999880644953688\n",
      "第 30 次学习结果 2.9999905208222217\n",
      "第 36 次学习结果 2.999999247163701\n",
      "第 42 次学习结果 2.999999940209741\n",
      "第 48 次学习结果 2.9999999952514576\n",
      "第 54 次学习结果 2.9999999996228706\n",
      "第 60 次学习结果 2.9999999999700484\n",
      "第 66 次学习结果 2.9999999999976215\n",
      "第 72 次学习结果 2.9999999999998113\n",
      "第 78 次学习结果 2.999999999999985\n",
      "第 84 次学习结果 2.9999999999999987\n",
      "第 90 次学习结果 3.0\n",
      "第 96 次学习结果 3.0\n",
      "第 102 次学习结果 3.0\n",
      "第 108 次学习结果 3.0\n",
      "第 114 次学习结果 3.0\n",
      "第 120 次学习结果 3.0\n"
     ]
    },
    {
     "data": {
      "image/png": "[encoded data removed]",
      "text/plain": [
       "<Figure size 640x480 with 1 Axes>"
      ]
     },
     "metadata": {},
     "output_type": "display_data"
    }
   ],
   "source": [
    "import numpy as np\n",
    "import matplotlib.pyplot as plt\n",
    "\n",
    "# 给定数据X和Y\n",
    "X = np.array([-1, 0, 1, 2, 3, 4])\n",
    "Y = np.array([-3, 0, 3, 6, 9, 12])\n",
    "\n",
    "# 获取X的长度作为样本数n\n",
    "n = len(X)\n",
    "\n",
    "# 设置超参数学习率\n",
    "alpha = 0.05\n",
    "# 初始化权重w\n",
    "w = 0\n",
    "# 设置超参数迭代次数\n",
    "epochs = 20\n",
    "\n",
    "for m in range(epochs):\n",
    "    for i in range(n):\n",
    "        x = X[i]\n",
    "        y = Y[i]\n",
    "        y_pre = w * x\n",
    "        e = y - y_pre\n",
    "        w = w + alpha * e * x\n",
    "    print(\"第 {} 次学习结果 {}\".format((m + 1) * n, w))\n",
    "\n",
    "y_pre = w * X\n",
    "plt.scatter(X, Y)\n",
    "plt.plot(X, y_pre)\n",
    "plt.show()"
   ]
  },
  {
   "cell_type": "code",
   "execution_count": 31,
   "id": "82a1dbd1-95ba-454c-a2f0-bb0fa55d303d",
   "metadata": {},
   "outputs": [
    {
     "name": "stdout",
     "output_type": "stream",
     "text": [
      "第 6 次学习结果 4.899239999999999\n",
      "第 12 次学习结果 1.7976291408000031\n",
      "第 18 次学习结果 3.761196943542336\n",
      "第 24 次学习结果 2.5181014389822183\n",
      "第 30 次学习结果 3.305080341009139\n",
      "第 36 次学习结果 2.806859737713938\n",
      "第 42 次学习结果 3.122273237248064\n",
      "第 48 次学习结果 2.922591258962992\n",
      "第 54 次学习结果 3.04900592577571\n",
      "第 60 次学习结果 2.9689753285099165\n",
      "第 66 次学习结果 3.019641099026943\n",
      "第 72 次学习结果 2.9875656130280253\n",
      "第 78 次学习结果 3.0078719617042196\n",
      "第 84 次学习结果 2.9950164184842936\n",
      "第 90 次学习结果 3.00315500578596\n",
      "第 96 次学习结果 2.998002628937022\n",
      "第 102 次学习结果 3.0012644956725483\n",
      "第 108 次学习结果 2.999199473079623\n",
      "第 114 次学习结果 3.000506797582751\n",
      "第 120 次学习结果 2.9996791565863092\n",
      "第 126 次学习结果 3.000203119548338\n",
      "第 132 次学习结果 2.999871409076338\n",
      "第 138 次学习结果 3.000081408341951\n",
      "第 144 次学习结果 2.9999484620068775\n",
      "第 150 次学习结果 3.0000326276726885\n",
      "第 156 次学习结果 2.9999793440729694\n",
      "第 162 次学习结果 3.0000130768542834\n",
      "第 168 次学习结果 2.999991721305089\n",
      "第 174 次学习结果 3.0000052410761735\n",
      "第 180 次学习结果 2.9999966819795008\n",
      "第 186 次学习结果 3.0000021005724142\n",
      "第 192 次学习结果 2.999998670169616\n",
      "第 198 次学习结果 3.0000008418890185\n",
      "第 204 次学习结果 2.9999994670169037\n",
      "第 210 次学习结果 3.00000033742094\n",
      "第 216 次学习结果 2.9999997863855525\n",
      "第 222 次学习结果 3.0000001352350316\n",
      "第 228 次学习结果 2.9999999143854055\n",
      "第 234 次学习结果 3.0000000542008856\n",
      "第 240 次学习结果 2.9999999656865053\n",
      "第 246 次学习结果 3.00000002172319\n",
      "第 252 次学习结果 2.9999999862474835\n",
      "第 258 次学习结果 3.000000008706444\n",
      "第 264 次学习结果 2.9999999944881246\n",
      "第 270 次学习结果 3.000000003489461\n",
      "第 276 次学习结果 2.9999999977908884\n",
      "第 282 次学习结果 3.000000001398543\n",
      "第 288 次学习结果 2.999999999114611\n",
      "第 294 次学习结果 3.000000000560521\n",
      "第 300 次学习结果 2.999999999645148\n"
     ]
    },
    {
     "data": {
      "image/png": "[encoded data removed]",
      "text/plain": [
       "<Figure size 640x480 with 1 Axes>"
      ]
     },
     "metadata": {},
     "output_type": "display_data"
    }
   ],
   "source": [
    "import numpy as np\n",
    "import matplotlib.pyplot as plt\n",
    "\n",
    "# 给定数据X和Y\n",
    "X = np.array([-1, 0, 1, 2, 3, 4])\n",
    "Y = np.array([-3, 0, 3, 6, 9, 12])\n",
    "\n",
    "# 获取X的长度作为样本数n\n",
    "n = len(X)\n",
    "\n",
    "# 设置超参数学习率\n",
    "alpha = 0.3\n",
    "# 初始化权重w\n",
    "w = 0\n",
    "# 设置超参数迭代次数\n",
    "epochs = 50\n",
    "\n",
    "for m in range(epochs):\n",
    "    for i in range(n):\n",
    "        x = X[i]\n",
    "        y = Y[i]\n",
    "        y_pre = w * x\n",
    "        e = y - y_pre\n",
    "        w = w + alpha * e * x\n",
    "    print(\"第 {} 次学习结果 {}\".format((m + 1) * n, w))\n",
    "\n",
    "y_pre = w * X\n",
    "plt.scatter(X, Y)\n",
    "plt.plot(X, y_pre)\n",
    "plt.show()"
   ]
  },
  {
   "cell_type": "code",
   "execution_count": 18,
   "id": "79c9b31b-3ba8-4011-adba-9f366beb2e9d",
   "metadata": {},
   "outputs": [
    {
     "name": "stdout",
     "output_type": "stream",
     "text": [
      "第 6 次学习结果 12.097919999999997\n",
      "第 12 次学习结果 -24.59071610879998\n",
      "第 18 次学习结果 86.6727093001912\n",
      "第 24 次学习结果 -250.74920513213186\n",
      "第 30 次学习结果 772.5299894519086\n",
      "第 36 次学习结果 -2330.7074272114364\n",
      "第 42 次学习结果 7080.294492058491\n",
      "第 48 次学习结果 -21459.88636839627\n",
      "第 54 次学习结果 65092.207716253295\n",
      "第 60 次学习结果 -197389.13488861846\n"
     ]
    },
    {
     "data": {
      "image/png": "[encoded data removed]",
      "text/plain": [
       "<Figure size 640x480 with 1 Axes>"
      ]
     },
     "metadata": {},
     "output_type": "display_data"
    }
   ],
   "source": [
    "import numpy as np\n",
    "import matplotlib.pyplot as plt\n",
    "\n",
    "# 给定数据X和Y\n",
    "X = np.array([-1, 0, 1, 2, 3, 4])\n",
    "Y = np.array([-3, 0, 3, 6, 9, 12])\n",
    "\n",
    "# 获取X的长度作为样本数n\n",
    "n = len(X)\n",
    "\n",
    "# 设置超参数学习率\n",
    "alpha = 0.4\n",
    "# 初始化权重w\n",
    "w = 0\n",
    "# 设置超参数迭代次数\n",
    "epochs = 10\n",
    "\n",
    "for m in range(epochs):\n",
    "    for i in range(n):\n",
    "        x = X[i]\n",
    "        y = Y[i]\n",
    "        y_pre = w * x\n",
    "        e = y - y_pre\n",
    "        w = w + alpha * e * x\n",
    "    print(\"第 {} 次学习结果 {}\".format((m + 1) * n, w))\n",
    "\n",
    "y_pre = w * X\n",
    "plt.scatter(X, Y)\n",
    "plt.plot(X, y_pre)\n",
    "plt.show()"
   ]
  },
  {
   "cell_type": "markdown",
   "id": "2dd3540e-2f01-4fd8-89fb-5b3491e15132",
   "metadata": {},
   "source": [
    "把学习率设置为0.03时，学习192次就达到极限了，后面继续学习并不会提升准确率，而把学习率设置为0.05时，学习90次就完全拟合了，把学习率设置0.3时结果出现了震荡，但相比只学习一次，都得到了更准确的学习结果。不过，当学习率设置为0.4时结果直接发散了。\n",
    "\n",
    "从这里可以看出学习率越小学习的越慢，需要更多的学习次数才能有更准确的结果，而学习率大时又可能无法收敛造成学习失败。另外也可以看出，学习次数并不是越多越好，在某些情况下学习一定次数后继续学习并不会有任何效果。\n",
    "\n",
    "设置适合的学习率和学习次数是非常重要的，即可以提高准确率又能节省学习时间。在这里学习率alpha和学习次数epochs是手动设置的参数，这种参数被称为**超参数**，也就是调参侠们要调整的内容。\n",
    "\n",
    "### 超参数（Hyperparameter）\n",
    "\n",
    "在机器学习模型中，超参数（Hyperparameters）是指需要手动设置的模型参数，这些参数不能从训练数据中学习而必须事先确定。通常在训练模型的过程中，超参数被指定为一组值，并进行反复验证，以找到给定问题的最佳模型性能。\n",
    "\n",
    "超参数的选择通常是一项 trial-and-error 的任务，并需要基于经验、领域知识和分析来完成。需要注意的是，超参数的调整对于机器学习的性能至关重要。不同的超参数设置可能会导致模型性能的巨大变化，因此在实际应用中，需要进行仔细的超参数调整以提高模型的性能。常见的超参数包括：\n",
    "\n",
    "1. **学习率（Learning Rate）**：学习率指的是每次迭代时模型参数更新的步长。如果学习率过高，模型可能会无法收敛；反之，如果学习率过低，模型则可能会收敛缓慢。选择合适的学习率是非常重要的，可以根据经验或者调参的方式找到最佳学习率。\n",
    "\n",
    "2. **迭代次数（Number of Iterations）**：迭代次数是指模型在训练集上进行的最大迭代次数，增加迭代次数可以提高模型的准确率，但同时也会增加训练时间。在实际应用中，迭代次数的选择需要考虑模型的时间成本和性能需求之间的权衡。\n",
    "\n",
    "3. **正则化参数（Regularization Parameters）**：正则化参数是用于控制过拟合的模型参数，例如 L1 正则化和 L2 正则化。在模型训练中，正则化参数可以调整模型复杂度，并帮助避免过度拟合或欠拟合的问题。\n",
    "\n",
    "4. **批量大小（Batch Size）**：批量大小是指在使用梯度下降算法进行模型训练时每次处理的样本量。通常采用如 32、64、128 等二的幂次方作为批量大小。增加批量大小可以提高训练速度，但同时也会使得每个参数更新的噪声增大。\n",
    "\n",
    "5. **激活函数（Activation Function）**：激活函数是一种能够给神经元引入非线性因素的函数，在神经网络中扮演着至关重要的角色。不同的激活函数对于输入数据和梯度的变化有着不同的反应，因此选择合适的激活函数也是超参数调优的重要部分。\n",
    "\n",
    "合理地选择超参数可以提高模型的性能，并获得更好的泛化能力，但需要注意过度调优会导致模型过度拟合训练数据而没有良好的泛化性能。因此，建议在训练模型时进行适当的调优，同时进行可视化、交叉验证和其他实验来验证模型的性能，以确保最终选择的超参数符合该问题的需求。\n",
    "\n",
    "### 误差\n",
    "\n",
    "在上面的机器学习中，最核心的公式是$w = w + \\alpha * e * x$，误差$e=y-y_{pre}$，这个误差叫**线性误差**，这种形式可能会使得误差计算结果出现负值，而负值在这里是没有意义的，因为预测结果不能比实际结果更差。\n",
    "\n",
    "在机器学习中更常用的是**均方误差**$e=(y - y_{pre})^2$，均方误差的优点是确保误差始终为正数，且越大的误差被惩罚得越严厉，在某些场景下能够更好地体现预测结果的差异性。\n",
    "\n",
    "但是使用均方误差怎么自动调整权重参数w实现机器学习呢？我们在下节课中详细讲解。"
   ]
  }
 ],
 "metadata": {
  "kernelspec": {
   "display_name": "Python 3 (ipykernel)",
   "language": "python",
   "name": "python3"
  },
  "language_info": {
   "codemirror_mode": {
    "name": "ipython",
    "version": 3
   },
   "file_extension": ".py",
   "mimetype": "text/x-python",
   "name": "python",
   "nbconvert_exporter": "python",
   "pygments_lexer": "ipython3",
   "version": "3.10.11"
  }
 },
 "nbformat": 4,
 "nbformat_minor": 5
}
